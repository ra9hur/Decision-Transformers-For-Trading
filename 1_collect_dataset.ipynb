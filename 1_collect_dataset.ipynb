{
 "cells": [
  {
   "cell_type": "code",
   "execution_count": null,
   "metadata": {},
   "outputs": [],
   "source": [
    "# ## install required packages\n",
    "# !pip install swig\n",
    "# !pip install wrds\n",
    "# !pip install pyportfolioopt\n",
    "# ## install finrl library\n",
    "# !pip install git+https://github.com/AI4Finance-Foundation/FinRL.git\n"
   ]
  },
  {
   "cell_type": "code",
   "execution_count": 1,
   "metadata": {},
   "outputs": [],
   "source": [
    "import pandas as pd\n",
    "import numpy as np\n",
    "import datetime\n",
    "import yfinance as yf\n",
    "\n",
    "from finrl.meta.preprocessor.yahoodownloader import YahooDownloader\n",
    "from finrl.meta.preprocessor.preprocessors import FeatureEngineer, data_split\n",
    "from finrl import config_tickers\n",
    "from finrl.config import INDICATORS\n",
    "\n",
    "import itertools\n"
   ]
  },
  {
   "cell_type": "code",
   "execution_count": 2,
   "metadata": {},
   "outputs": [],
   "source": [
    "TRAIN_START_DATE = '2009-01-01'\n",
    "TRAIN_END_DATE = '2022-07-01'\n",
    "TRADE_START_DATE = '2022-07-01'\n",
    "TRADE_END_DATE = '2024-05-01'\n"
   ]
  },
  {
   "cell_type": "code",
   "execution_count": 3,
   "metadata": {},
   "outputs": [
    {
     "name": "stdout",
     "output_type": "stream",
     "text": [
      "['AXP', 'AMGN', 'AAPL', 'BA', 'CAT', 'CSCO', 'CVX', 'GS', 'HD', 'HON', 'IBM', 'INTC', 'JNJ', 'KO', 'JPM', 'MCD', 'MMM', 'MRK', 'MSFT', 'NKE', 'PG', 'TRV', 'UNH', 'CRM', 'VZ', 'V', 'WBA', 'WMT', 'DIS', 'DOW']\n"
     ]
    }
   ],
   "source": [
    "from finrl.config_tickers import DOW_30_TICKER\n",
    "\n",
    "print(DOW_30_TICKER)\n"
   ]
  },
  {
   "cell_type": "code",
   "execution_count": 4,
   "metadata": {},
   "outputs": [
    {
     "name": "stderr",
     "output_type": "stream",
     "text": [
      "[*********************100%%**********************]  1 of 1 completed\n",
      "[*********************100%%**********************]  1 of 1 completed\n",
      "[*********************100%%**********************]  1 of 1 completed\n",
      "[*********************100%%**********************]  1 of 1 completed\n",
      "[*********************100%%**********************]  1 of 1 completed\n",
      "[*********************100%%**********************]  1 of 1 completed\n",
      "[*********************100%%**********************]  1 of 1 completed\n",
      "[*********************100%%**********************]  1 of 1 completed\n",
      "[*********************100%%**********************]  1 of 1 completed\n",
      "[*********************100%%**********************]  1 of 1 completed\n",
      "[*********************100%%**********************]  1 of 1 completed\n",
      "[*********************100%%**********************]  1 of 1 completed\n",
      "[*********************100%%**********************]  1 of 1 completed\n",
      "[*********************100%%**********************]  1 of 1 completed\n",
      "[*********************100%%**********************]  1 of 1 completed\n",
      "[*********************100%%**********************]  1 of 1 completed\n",
      "[*********************100%%**********************]  1 of 1 completed\n",
      "[*********************100%%**********************]  1 of 1 completed\n",
      "[*********************100%%**********************]  1 of 1 completed\n",
      "[*********************100%%**********************]  1 of 1 completed\n",
      "[*********************100%%**********************]  1 of 1 completed\n",
      "[*********************100%%**********************]  1 of 1 completed\n",
      "[*********************100%%**********************]  1 of 1 completed\n",
      "[*********************100%%**********************]  1 of 1 completed\n",
      "[*********************100%%**********************]  1 of 1 completed\n",
      "[*********************100%%**********************]  1 of 1 completed\n",
      "[*********************100%%**********************]  1 of 1 completed\n",
      "[*********************100%%**********************]  1 of 1 completed\n",
      "[*********************100%%**********************]  1 of 1 completed\n",
      "[*********************100%%**********************]  1 of 1 completed\n"
     ]
    },
    {
     "name": "stdout",
     "output_type": "stream",
     "text": [
      "Shape of DataFrame:  (113141, 8)\n"
     ]
    }
   ],
   "source": [
    "df_raw = YahooDownloader(start_date = TRAIN_START_DATE,\n",
    "                                end_date = TRADE_END_DATE,\n",
    "                                ticker_list = DOW_30_TICKER).fetch_data()\n",
    "\n"
   ]
  },
  {
   "cell_type": "code",
   "execution_count": 5,
   "metadata": {},
   "outputs": [
    {
     "data": {
      "text/html": [
       "<div>\n",
       "<style scoped>\n",
       "    .dataframe tbody tr th:only-of-type {\n",
       "        vertical-align: middle;\n",
       "    }\n",
       "\n",
       "    .dataframe tbody tr th {\n",
       "        vertical-align: top;\n",
       "    }\n",
       "\n",
       "    .dataframe thead th {\n",
       "        text-align: right;\n",
       "    }\n",
       "</style>\n",
       "<table border=\"1\" class=\"dataframe\">\n",
       "  <thead>\n",
       "    <tr style=\"text-align: right;\">\n",
       "      <th></th>\n",
       "      <th>date</th>\n",
       "      <th>open</th>\n",
       "      <th>high</th>\n",
       "      <th>low</th>\n",
       "      <th>close</th>\n",
       "      <th>volume</th>\n",
       "      <th>tic</th>\n",
       "      <th>day</th>\n",
       "    </tr>\n",
       "  </thead>\n",
       "  <tbody>\n",
       "    <tr>\n",
       "      <th>0</th>\n",
       "      <td>2009-01-02</td>\n",
       "      <td>3.067143</td>\n",
       "      <td>3.251429</td>\n",
       "      <td>3.041429</td>\n",
       "      <td>2.737005</td>\n",
       "      <td>746015200</td>\n",
       "      <td>AAPL</td>\n",
       "      <td>4</td>\n",
       "    </tr>\n",
       "    <tr>\n",
       "      <th>1</th>\n",
       "      <td>2009-01-02</td>\n",
       "      <td>58.590000</td>\n",
       "      <td>59.080002</td>\n",
       "      <td>57.750000</td>\n",
       "      <td>42.107323</td>\n",
       "      <td>6547900</td>\n",
       "      <td>AMGN</td>\n",
       "      <td>4</td>\n",
       "    </tr>\n",
       "    <tr>\n",
       "      <th>2</th>\n",
       "      <td>2009-01-02</td>\n",
       "      <td>18.570000</td>\n",
       "      <td>19.520000</td>\n",
       "      <td>18.400000</td>\n",
       "      <td>15.053307</td>\n",
       "      <td>10955700</td>\n",
       "      <td>AXP</td>\n",
       "      <td>4</td>\n",
       "    </tr>\n",
       "    <tr>\n",
       "      <th>3</th>\n",
       "      <td>2009-01-02</td>\n",
       "      <td>42.799999</td>\n",
       "      <td>45.560001</td>\n",
       "      <td>42.779999</td>\n",
       "      <td>33.941109</td>\n",
       "      <td>7010200</td>\n",
       "      <td>BA</td>\n",
       "      <td>4</td>\n",
       "    </tr>\n",
       "    <tr>\n",
       "      <th>4</th>\n",
       "      <td>2009-01-02</td>\n",
       "      <td>44.910000</td>\n",
       "      <td>46.980000</td>\n",
       "      <td>44.709999</td>\n",
       "      <td>30.712517</td>\n",
       "      <td>7117200</td>\n",
       "      <td>CAT</td>\n",
       "      <td>4</td>\n",
       "    </tr>\n",
       "  </tbody>\n",
       "</table>\n",
       "</div>"
      ],
      "text/plain": [
       "         date       open       high        low      close     volume   tic  \\\n",
       "0  2009-01-02   3.067143   3.251429   3.041429   2.737005  746015200  AAPL   \n",
       "1  2009-01-02  58.590000  59.080002  57.750000  42.107323    6547900  AMGN   \n",
       "2  2009-01-02  18.570000  19.520000  18.400000  15.053307   10955700   AXP   \n",
       "3  2009-01-02  42.799999  45.560001  42.779999  33.941109    7010200    BA   \n",
       "4  2009-01-02  44.910000  46.980000  44.709999  30.712517    7117200   CAT   \n",
       "\n",
       "   day  \n",
       "0    4  \n",
       "1    4  \n",
       "2    4  \n",
       "3    4  \n",
       "4    4  "
      ]
     },
     "execution_count": 5,
     "metadata": {},
     "output_type": "execute_result"
    }
   ],
   "source": [
    "df_raw.head()\n"
   ]
  },
  {
   "cell_type": "code",
   "execution_count": 6,
   "metadata": {},
   "outputs": [
    {
     "data": {
      "text/plain": [
       "tic\n",
       "AAPL    3857\n",
       "AMGN    3857\n",
       "AXP     3857\n",
       "BA      3857\n",
       "CAT     3857\n",
       "CRM     3857\n",
       "CSCO    3857\n",
       "CVX     3857\n",
       "DIS     3857\n",
       "GS      3857\n",
       "HD      3857\n",
       "HON     3857\n",
       "IBM     3857\n",
       "INTC    3857\n",
       "JNJ     3857\n",
       "JPM     3857\n",
       "KO      3857\n",
       "MCD     3857\n",
       "MMM     3857\n",
       "MRK     3857\n",
       "MSFT    3857\n",
       "NKE     3857\n",
       "PG      3857\n",
       "TRV     3857\n",
       "UNH     3857\n",
       "V       3857\n",
       "VZ      3857\n",
       "WBA     3857\n",
       "WMT     3857\n",
       "DOW     1288\n",
       "Name: count, dtype: int64"
      ]
     },
     "execution_count": 6,
     "metadata": {},
     "output_type": "execute_result"
    }
   ],
   "source": [
    "df_raw.tic.value_counts()\n"
   ]
  },
  {
   "cell_type": "markdown",
   "metadata": {},
   "source": [
    "## Pre-Process Data"
   ]
  },
  {
   "cell_type": "code",
   "execution_count": 7,
   "metadata": {},
   "outputs": [
    {
     "name": "stdout",
     "output_type": "stream",
     "text": [
      "Successfully added technical indicators\n"
     ]
    },
    {
     "name": "stderr",
     "output_type": "stream",
     "text": [
      "[*********************100%%**********************]  1 of 1 completed\n"
     ]
    },
    {
     "name": "stdout",
     "output_type": "stream",
     "text": [
      "Shape of DataFrame:  (3856, 8)\n",
      "Successfully added vix\n",
      "Successfully added turbulence index\n"
     ]
    }
   ],
   "source": [
    "fe = FeatureEngineer(use_technical_indicator=True,\n",
    "                     tech_indicator_list = INDICATORS,\n",
    "                     use_vix=True,\n",
    "                     use_turbulence=True,\n",
    "                     user_defined_feature = False)\n",
    "\n",
    "processed = fe.preprocess_data(df_raw)\n",
    "processed = processed.copy()\n",
    "processed = processed.fillna(0)\n",
    "processed = processed.replace(np.inf,0)\n"
   ]
  },
  {
   "cell_type": "markdown",
   "metadata": {},
   "source": [
    "Refer: config.py\n",
    "\n",
    "INDICATORS\n",
    "\n",
    "stockstats technical indicator column names\n",
    "check https://pypi.org/project/stockstats/ for different names\n",
    "\n",
    "    INDICATORS = [\n",
    "        \"macd\",\n",
    "        \"boll_ub\",\n",
    "        \"boll_lb\",\n",
    "        \"rsi_30\",\n",
    "        \"cci_30\",\n",
    "        \"dx_30\",\n",
    "        \"close_30_sma\",\n",
    "        \"close_60_sma\",\n",
    "    ]"
   ]
  },
  {
   "cell_type": "code",
   "execution_count": 8,
   "metadata": {},
   "outputs": [
    {
     "data": {
      "text/html": [
       "<div>\n",
       "<style scoped>\n",
       "    .dataframe tbody tr th:only-of-type {\n",
       "        vertical-align: middle;\n",
       "    }\n",
       "\n",
       "    .dataframe tbody tr th {\n",
       "        vertical-align: top;\n",
       "    }\n",
       "\n",
       "    .dataframe thead th {\n",
       "        text-align: right;\n",
       "    }\n",
       "</style>\n",
       "<table border=\"1\" class=\"dataframe\">\n",
       "  <thead>\n",
       "    <tr style=\"text-align: right;\">\n",
       "      <th></th>\n",
       "      <th>date</th>\n",
       "      <th>open</th>\n",
       "      <th>high</th>\n",
       "      <th>low</th>\n",
       "      <th>close</th>\n",
       "      <th>volume</th>\n",
       "      <th>tic</th>\n",
       "      <th>day</th>\n",
       "      <th>macd</th>\n",
       "      <th>boll_ub</th>\n",
       "      <th>boll_lb</th>\n",
       "      <th>rsi_30</th>\n",
       "      <th>cci_30</th>\n",
       "      <th>dx_30</th>\n",
       "      <th>close_30_sma</th>\n",
       "      <th>close_60_sma</th>\n",
       "      <th>vix</th>\n",
       "      <th>turbulence</th>\n",
       "    </tr>\n",
       "  </thead>\n",
       "  <tbody>\n",
       "    <tr>\n",
       "      <th>62027</th>\n",
       "      <td>2017-06-30</td>\n",
       "      <td>94.379997</td>\n",
       "      <td>94.620003</td>\n",
       "      <td>93.779999</td>\n",
       "      <td>89.220764</td>\n",
       "      <td>9036600</td>\n",
       "      <td>V</td>\n",
       "      <td>4</td>\n",
       "      <td>0.254287</td>\n",
       "      <td>92.016668</td>\n",
       "      <td>88.661580</td>\n",
       "      <td>52.363288</td>\n",
       "      <td>-69.620189</td>\n",
       "      <td>9.548064</td>\n",
       "      <td>90.215920</td>\n",
       "      <td>88.404808</td>\n",
       "      <td>11.180000</td>\n",
       "      <td>124.124969</td>\n",
       "    </tr>\n",
       "    <tr>\n",
       "      <th>18743</th>\n",
       "      <td>2011-07-27</td>\n",
       "      <td>136.789993</td>\n",
       "      <td>137.250000</td>\n",
       "      <td>134.440002</td>\n",
       "      <td>106.387062</td>\n",
       "      <td>5250000</td>\n",
       "      <td>GS</td>\n",
       "      <td>2</td>\n",
       "      <td>0.026746</td>\n",
       "      <td>109.466705</td>\n",
       "      <td>100.816658</td>\n",
       "      <td>46.449051</td>\n",
       "      <td>63.336648</td>\n",
       "      <td>1.689565</td>\n",
       "      <td>105.289091</td>\n",
       "      <td>107.896268</td>\n",
       "      <td>22.980000</td>\n",
       "      <td>35.890914</td>\n",
       "    </tr>\n",
       "    <tr>\n",
       "      <th>11898</th>\n",
       "      <td>2010-08-19</td>\n",
       "      <td>33.720001</td>\n",
       "      <td>33.779999</td>\n",
       "      <td>33.060001</td>\n",
       "      <td>28.683229</td>\n",
       "      <td>12070700</td>\n",
       "      <td>DIS</td>\n",
       "      <td>3</td>\n",
       "      <td>-0.019374</td>\n",
       "      <td>30.577433</td>\n",
       "      <td>28.587460</td>\n",
       "      <td>46.718790</td>\n",
       "      <td>-94.163121</td>\n",
       "      <td>6.872289</td>\n",
       "      <td>29.412341</td>\n",
       "      <td>29.220052</td>\n",
       "      <td>26.440001</td>\n",
       "      <td>21.731100</td>\n",
       "    </tr>\n",
       "    <tr>\n",
       "      <th>88948</th>\n",
       "      <td>2021-03-11</td>\n",
       "      <td>215.000000</td>\n",
       "      <td>218.169998</td>\n",
       "      <td>214.350006</td>\n",
       "      <td>215.333084</td>\n",
       "      <td>6431000</td>\n",
       "      <td>CRM</td>\n",
       "      <td>3</td>\n",
       "      <td>-6.005204</td>\n",
       "      <td>258.651326</td>\n",
       "      <td>193.685766</td>\n",
       "      <td>44.429400</td>\n",
       "      <td>-76.484370</td>\n",
       "      <td>23.625257</td>\n",
       "      <td>228.514990</td>\n",
       "      <td>225.024490</td>\n",
       "      <td>21.910000</td>\n",
       "      <td>20.478945</td>\n",
       "    </tr>\n",
       "    <tr>\n",
       "      <th>48333</th>\n",
       "      <td>2015-08-17</td>\n",
       "      <td>56.106869</td>\n",
       "      <td>57.013359</td>\n",
       "      <td>55.896946</td>\n",
       "      <td>43.290554</td>\n",
       "      <td>6407158</td>\n",
       "      <td>MRK</td>\n",
       "      <td>0</td>\n",
       "      <td>0.154406</td>\n",
       "      <td>43.330342</td>\n",
       "      <td>41.377335</td>\n",
       "      <td>55.104031</td>\n",
       "      <td>125.621726</td>\n",
       "      <td>15.269093</td>\n",
       "      <td>42.291245</td>\n",
       "      <td>42.356922</td>\n",
       "      <td>13.020000</td>\n",
       "      <td>21.872891</td>\n",
       "    </tr>\n",
       "  </tbody>\n",
       "</table>\n",
       "</div>"
      ],
      "text/plain": [
       "             date        open        high         low       close    volume  \\\n",
       "62027  2017-06-30   94.379997   94.620003   93.779999   89.220764   9036600   \n",
       "18743  2011-07-27  136.789993  137.250000  134.440002  106.387062   5250000   \n",
       "11898  2010-08-19   33.720001   33.779999   33.060001   28.683229  12070700   \n",
       "88948  2021-03-11  215.000000  218.169998  214.350006  215.333084   6431000   \n",
       "48333  2015-08-17   56.106869   57.013359   55.896946   43.290554   6407158   \n",
       "\n",
       "       tic  day      macd     boll_ub     boll_lb     rsi_30      cci_30  \\\n",
       "62027    V    4  0.254287   92.016668   88.661580  52.363288  -69.620189   \n",
       "18743   GS    2  0.026746  109.466705  100.816658  46.449051   63.336648   \n",
       "11898  DIS    3 -0.019374   30.577433   28.587460  46.718790  -94.163121   \n",
       "88948  CRM    3 -6.005204  258.651326  193.685766  44.429400  -76.484370   \n",
       "48333  MRK    0  0.154406   43.330342   41.377335  55.104031  125.621726   \n",
       "\n",
       "           dx_30  close_30_sma  close_60_sma        vix  turbulence  \n",
       "62027   9.548064     90.215920     88.404808  11.180000  124.124969  \n",
       "18743   1.689565    105.289091    107.896268  22.980000   35.890914  \n",
       "11898   6.872289     29.412341     29.220052  26.440001   21.731100  \n",
       "88948  23.625257    228.514990    225.024490  21.910000   20.478945  \n",
       "48333  15.269093     42.291245     42.356922  13.020000   21.872891  "
      ]
     },
     "execution_count": 8,
     "metadata": {},
     "output_type": "execute_result"
    }
   ],
   "source": [
    "processed.sample(5)\n"
   ]
  },
  {
   "cell_type": "code",
   "execution_count": 9,
   "metadata": {},
   "outputs": [
    {
     "data": {
      "text/plain": [
       "(111824, 18)"
      ]
     },
     "execution_count": 9,
     "metadata": {},
     "output_type": "execute_result"
    }
   ],
   "source": [
    "processed.shape\n"
   ]
  },
  {
   "cell_type": "markdown",
   "metadata": {},
   "source": [
    "## Save The Data"
   ]
  },
  {
   "cell_type": "code",
   "execution_count": 10,
   "metadata": {},
   "outputs": [
    {
     "name": "stdout",
     "output_type": "stream",
     "text": [
      "98513\n",
      "13311\n"
     ]
    }
   ],
   "source": [
    "# Split the data\n",
    "train = data_split(processed, TRAIN_START_DATE,TRAIN_END_DATE)\n",
    "trade = data_split(processed, TRADE_START_DATE,TRADE_END_DATE)\n",
    "print(len(train))\n",
    "print(len(trade))\n"
   ]
  },
  {
   "cell_type": "code",
   "execution_count": 11,
   "metadata": {},
   "outputs": [],
   "source": [
    "train_path = 'data/train.csv'\n",
    "trade_path = 'data/trade.csv'\n",
    "\n",
    "with open(train_path, 'w', encoding = 'utf-8-sig') as f:\n",
    "  train.to_csv(f)\n",
    "\n",
    "with open(trade_path, 'w', encoding = 'utf-8-sig') as f:\n",
    "  trade.to_csv(f)\n"
   ]
  },
  {
   "cell_type": "code",
   "execution_count": null,
   "metadata": {},
   "outputs": [],
   "source": []
  },
  {
   "cell_type": "code",
   "execution_count": null,
   "metadata": {},
   "outputs": [],
   "source": []
  },
  {
   "cell_type": "code",
   "execution_count": null,
   "metadata": {},
   "outputs": [],
   "source": []
  },
  {
   "cell_type": "code",
   "execution_count": null,
   "metadata": {},
   "outputs": [],
   "source": []
  }
 ],
 "metadata": {
  "kernelspec": {
   "display_name": "rl",
   "language": "python",
   "name": "python3"
  },
  "language_info": {
   "codemirror_mode": {
    "name": "ipython",
    "version": 3
   },
   "file_extension": ".py",
   "mimetype": "text/x-python",
   "name": "python",
   "nbconvert_exporter": "python",
   "pygments_lexer": "ipython3",
   "version": "3.10.14"
  }
 },
 "nbformat": 4,
 "nbformat_minor": 2
}
